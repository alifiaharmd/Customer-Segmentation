{
 "cells": [
  {
   "cell_type": "markdown",
   "metadata": {},
   "source": [
    "## Customer Segmentation with K-means\n",
    "\n",
    "Use data from previous chapter to build customer segments based on their recency, frequency, and monetary value.\n",
    "\n",
    "\n",
    "#### Key steps\n",
    "- Data pre-processing\n",
    "- Choosing a number of clusters\n",
    "- Running k-means clustering on pre-processed data\n",
    "- Analyzing average RFM values of each cluster\n",
    "\n",
    "#### Methods to define the number of clusters\n",
    "- Visual methods - elbow criterion\n",
    "- Mathematical methods - silhouette coefficient\n",
    "- Experimentation and interpretation\n",
    "\n"
   ]
  },
  {
   "cell_type": "markdown",
   "metadata": {},
   "source": [
    "Links revisar en orden:\n",
    "- https://www.ritchieng.com/machine-learning-project-customer-segments/\n",
    "- https://www.learndatasci.com/tutorials/k-means-clustering-algorithms-python-intro/\n",
    "\n",
    "\n",
    "- https://www.toptal.com/machine-learning/clustering-algorithms\n",
    "\n",
    "\n",
    "- https://towardsdatascience.com/an-introduction-to-clustering-algorithms-in-python-123438574097 \n",
    "\n",
    "- http://www.aprendemachinelearning.com/k-means-en-python-paso-a-paso/\n",
    "\n",
    "- https://www.kaggle.com/dhanyajothimani/basic-visualization-and-clustering-in-python\n",
    "\n",
    "- https://www.kaggle.com/fabiendaniel/customer-segmentation\n",
    "\n",
    "- http://blog.yhat.com/posts/customer-segmentation-using-python.html \n",
    "\n",
    "- https://www.datacamp.com/community/tutorials/introduction-customer-segmentation-python\n",
    "\n",
    "-https://inseaddataanalytics.github.io/INSEADAnalytics/CourseSessions/Sessions45/ClusterAnalysisReading.html\n",
    "\n",
    "- https://sajalsharma.com/portfolio/customer_segments\n",
    "\n",
    "- https://towardsdatascience.com/clustering-algorithms-for-customer-segmentation-af637c6830ac\n",
    "\n",
    "- https://towardsdatascience.com/find-your-best-customers-with-customer-segmentation-in-python-61d602f9eee6\n",
    "\n",
    "- https://www.ritchieng.com/machine-learning-project-customer-segments/\n",
    "\n",
    "- https://github.com/piyush2896/CustomerSegments/blob/master/customer_segments.ipynb\n",
    "\n",
    "- https://www.cyborgus.com/blog/16655/2017-04-03-top-mistakes-data-scientists-make\n",
    "\n",
    "- https://www.cyborgus.com/blog/16653/2017-03-19-what-makes-a-great-data-scientist\n",
    "\n",
    "- https://www.cyborgus.com/blog/16652/2017-03-13-think-like-data-scientist\n"
   ]
  }
 ],
 "metadata": {
  "kernelspec": {
   "display_name": "Python 3",
   "language": "python",
   "name": "python3"
  },
  "language_info": {
   "codemirror_mode": {
    "name": "ipython",
    "version": 3
   },
   "file_extension": ".py",
   "mimetype": "text/x-python",
   "name": "python",
   "nbconvert_exporter": "python",
   "pygments_lexer": "ipython3",
   "version": "3.7.0"
  }
 },
 "nbformat": 4,
 "nbformat_minor": 2
}
